{
 "cells": [
  {
   "cell_type": "markdown",
   "metadata": {},
   "source": [
    "# Computing Electric Field Along the Axis of a Charged Ring With a Computer"
   ]
  },
  {
   "cell_type": "markdown",
   "metadata": {},
   "source": [
    "This program computes the net electric field due to a uniformly charged ring of radius $R$ and charge $Q$ at a given point in space."
   ]
  },
  {
   "cell_type": "code",
   "execution_count": 1,
   "metadata": {},
   "outputs": [
    {
     "data": {
      "application/javascript": [
       "require.undef(\"nbextensions/vpython_libraries/glow.min\");"
      ],
      "text/plain": [
       "<IPython.core.display.Javascript object>"
      ]
     },
     "metadata": {},
     "output_type": "display_data"
    },
    {
     "data": {
      "application/javascript": [
       "require.undef(\"nbextensions/vpython_libraries/glowcomm\");"
      ],
      "text/plain": [
       "<IPython.core.display.Javascript object>"
      ]
     },
     "metadata": {},
     "output_type": "display_data"
    },
    {
     "data": {
      "application/javascript": [
       "require.undef(\"nbextensions/vpython_libraries/jquery-ui.custom.min\");"
      ],
      "text/plain": [
       "<IPython.core.display.Javascript object>"
      ]
     },
     "metadata": {},
     "output_type": "display_data"
    },
    {
     "data": {
      "application/javascript": [
       "require([\"nbextensions/vpython_libraries/glow.min\"], function(){console.log(\"GLOW LOADED\");})"
      ],
      "text/plain": [
       "<IPython.core.display.Javascript object>"
      ]
     },
     "metadata": {},
     "output_type": "display_data"
    },
    {
     "data": {
      "application/javascript": [
       "require([\"nbextensions/vpython_libraries/glowcomm\"], function(){console.log(\"GLOWCOMM LOADED\");})"
      ],
      "text/plain": [
       "<IPython.core.display.Javascript object>"
      ]
     },
     "metadata": {},
     "output_type": "display_data"
    },
    {
     "data": {
      "application/javascript": [
       "require([\"nbextensions/vpython_libraries/jquery-ui.custom.min\"], function(){console.log(\"JQUERY LOADED\");})"
      ],
      "text/plain": [
       "<IPython.core.display.Javascript object>"
      ]
     },
     "metadata": {},
     "output_type": "display_data"
    },
    {
     "data": {
      "text/html": [
       "<div id=\"glowscript\" class=\"glowscript\"></div>"
      ],
      "text/plain": [
       "<IPython.core.display.HTML object>"
      ]
     },
     "metadata": {},
     "output_type": "display_data"
    },
    {
     "data": {
      "application/javascript": [
       "window.__context = { glowscript_container: $(\"#glowscript\").removeAttr(\"id\")}"
      ],
      "text/plain": [
       "<IPython.core.display.Javascript object>"
      ]
     },
     "metadata": {},
     "output_type": "display_data"
    }
   ],
   "source": [
    "from __future__ import division, print_function\n",
    "from vpython import *\n",
    "from math import *"
   ]
  },
  {
   "cell_type": "code",
   "execution_count": 2,
   "metadata": {},
   "outputs": [
    {
     "data": {
      "text/html": [
       "<div id=\"glowscript\" class=\"glowscript\"></div>"
      ],
      "text/plain": [
       "<IPython.core.display.HTML object>"
      ]
     },
     "metadata": {},
     "output_type": "display_data"
    },
    {
     "data": {
      "application/javascript": [
       "window.__context = { glowscript_container: $(\"#glowscript\").removeAttr(\"id\")}"
      ],
      "text/plain": [
       "<IPython.core.display.Javascript object>"
      ]
     },
     "metadata": {},
     "output_type": "display_data"
    },
    {
     "name": "stdout",
     "output_type": "stream",
     "text": [
      "The net electric field =  <-4.54747e-13, -4.54747e-13, 7954.95> N/C\n"
     ]
    }
   ],
   "source": [
    "scene=canvas(title=\"Electric field due to uniformly charged ring\")\n",
    "scene.background=color.white\n",
    "\n",
    "R=0.02 #radius of ring in m\n",
    "Q=1e-9 #charge of ring in C\n",
    "N=4 #number of unique pieces\n",
    "\n",
    "#draw the objects\n",
    "myring=ring(pos=vector(0,0,0), radius=R, axis=vector(0,0,1), color=color.blue, thickness=0.02*R)\n",
    "zaxis=cylinder(pos=-2*R*myring.axis, radius=0.015*R, axis=4*R*myring.axis, color=color.black)\n",
    "point=sphere(pos=R*myring.axis, color=color.red, radius=5*zaxis.radius)\n",
    "\n",
    "oofpez=9e9 #1/(4pi epsilon_0) in N m^2/C^2\n",
    "dq=Q/N #charge of a piece\n",
    "dtheta=2*pi/N #theta increment for our loop\n",
    "theta=dtheta/2 #initial theta for first piece of loop\n",
    "Enet=vector(0,0,0) #net electric field of all pieces\n",
    "\n",
    "rpoint=point.pos #location of the point in space to calculate E field\n",
    "\n",
    "scale=1.2*mag(rpoint)/8000 #used to scale the arrows representing E-field\n",
    "\n",
    "while theta<2*pi:\n",
    "    rpiece=R*vector(cos(theta),sin(theta),0) #location of piece\n",
    "    r=rpoint-rpiece #vector from piece to point in space\n",
    "    rmag=mag(r) #magnitude of r\n",
    "    rhat=norm(r) #unit vector for r\n",
    "    dE=oofpez*dq/rmag/rmag*rhat #Electric field due to piece at rpoint\n",
    "    Enet=Enet+dE #net electric field of the first one up to this one\n",
    "    particle=sphere(pos=rpiece, radius=point.radius, color=color.yellow) #draw a particle at center of piece\n",
    "    dEvector=arrow(pos=rpoint, axis=scale*dE, color=color.magenta, shaftwidth=point.radius/2)\n",
    "    theta=theta+dtheta\n",
    "\n",
    "print(\"The net electric field = \",Enet, \"N/C\")\n",
    "Evector=arrow(pos=rpoint, axis=scale*Enet, color=color.orange, shaftwidth=point.radius/2)\n"
   ]
  },
  {
   "cell_type": "code",
   "execution_count": 3,
   "metadata": {},
   "outputs": [
    {
     "data": {
      "text/html": [
       "<div id=\"glowscript\" class=\"glowscript\"></div>"
      ],
      "text/plain": [
       "<IPython.core.display.HTML object>"
      ]
     },
     "metadata": {},
     "output_type": "display_data"
    },
    {
     "data": {
      "application/javascript": [
       "window.__context = { glowscript_container: $(\"#glowscript\").removeAttr(\"id\")}"
      ],
      "text/plain": [
       "<IPython.core.display.Javascript object>"
      ]
     },
     "metadata": {},
     "output_type": "display_data"
    },
    {
     "name": "stdout",
     "output_type": "stream",
     "text": [
      "The net electric field =  <2.27374e-12, 6.82121e-13, 0> N/C\n"
     ]
    }
   ],
   "source": [
    "scene=canvas(title=\"Electric field at the origin due to uniformly charged ring\")\n",
    "scene.background=color.white\n",
    "\n",
    "N=8\n",
    "dq=Q/N\n",
    "dtheta=2*pi/N \n",
    "\n",
    "myring=ring(pos=vector(0,0,0), radius=R, axis=vector(0,0,1), color=color.blue, thickness=0.02*R)\n",
    "zaxis=cylinder(pos=-2*R*myring.axis, radius=0.015*R, axis=4*R*myring.axis, color=color.black)\n",
    "point1 = sphere(pos=vector(0,0,0),color=color.red, radius=5*zaxis.radius)\n",
    "\n",
    "rpoint1 = point1.pos\n",
    "\n",
    "Enet1=vector(0,0,0)\n",
    "theta=dtheta/2 \n",
    "\n",
    "while theta<2*pi:\n",
    "    rpiece=R*vector(cos(theta),sin(theta),0) \n",
    "    r1=rpoint1-rpiece \n",
    "    rmag1=mag(r1) \n",
    "    rhat1=norm(r1)\n",
    "    dE1=oofpez*dq/rmag1/rmag1*rhat1 \n",
    "    Enet1=Enet1+dE1 \n",
    "    particle=sphere(pos=rpiece, radius=point.radius, color=color.yellow) \n",
    "    dEvector=arrow(pos=rpoint1, axis=scale*dE1, color=color.magenta, shaftwidth=point.radius/2)\n",
    "    theta=theta+dtheta\n",
    "\n",
    "print(\"The net electric field = \",Enet1, \"N/C\")\n",
    "Evector=arrow(pos=rpoint1, axis=scale*Enet, color=color.orange, shaftwidth=point.radius/2)"
   ]
  },
  {
   "cell_type": "code",
   "execution_count": 4,
   "metadata": {},
   "outputs": [
    {
     "data": {
      "text/html": [
       "<div id=\"glowscript\" class=\"glowscript\"></div>"
      ],
      "text/plain": [
       "<IPython.core.display.HTML object>"
      ]
     },
     "metadata": {},
     "output_type": "display_data"
    },
    {
     "data": {
      "application/javascript": [
       "window.__context = { glowscript_container: $(\"#glowscript\").removeAttr(\"id\")}"
      ],
      "text/plain": [
       "<IPython.core.display.Javascript object>"
      ]
     },
     "metadata": {},
     "output_type": "display_data"
    },
    {
     "name": "stdout",
     "output_type": "stream",
     "text": [
      "The net electric field =  <3.18323e-12, -3019.52, 0> N/C\n"
     ]
    }
   ],
   "source": [
    "scene=canvas(title=\"Electric field at (0,0.005,0) due to uniformly charged ring\")\n",
    "scene.background=color.white\n",
    "\n",
    "myring=ring(pos=vector(0,0,0), radius=R, axis=vector(0,0,1), color=color.blue, thickness=0.02*R)\n",
    "zaxis=cylinder(pos=-2*R*myring.axis, radius=0.015*R, axis=4*R*myring.axis, color=color.black)\n",
    "point2 = sphere(pos=vector(0,0.005,0),color=color.red, radius=5*zaxis.radius)\n",
    "\n",
    "rpoint2 = point2.pos\n",
    "\n",
    "Enet2=vector(0,0,0)\n",
    "theta=dtheta/2 \n",
    "\n",
    "while theta<2*pi:\n",
    "    rpiece=R*vector(cos(theta),sin(theta),0) \n",
    "    r2=rpoint2-rpiece \n",
    "    rmag2=mag(r2) \n",
    "    rhat2=norm(r2)\n",
    "    dE2=oofpez*dq/rmag2/rmag2*rhat2 \n",
    "    Enet2=Enet2+dE2 \n",
    "    particle=sphere(pos=rpiece, radius=point.radius, color=color.yellow) \n",
    "    dEvector=arrow(pos=rpoint2, axis=scale*dE2, color=color.magenta, shaftwidth=point.radius/2)\n",
    "    theta=theta+dtheta\n",
    "\n",
    "print(\"The net electric field = \",Enet2, \"N/C\")\n",
    "Evector=arrow(pos=rpoint2, axis=scale*Enet2, color=color.orange, shaftwidth=point.radius/2)"
   ]
  },
  {
   "cell_type": "code",
   "execution_count": 5,
   "metadata": {},
   "outputs": [
    {
     "data": {
      "text/html": [
       "<div id=\"glowscript\" class=\"glowscript\"></div>"
      ],
      "text/plain": [
       "<IPython.core.display.HTML object>"
      ]
     },
     "metadata": {},
     "output_type": "display_data"
    },
    {
     "data": {
      "application/javascript": [
       "window.__context = { glowscript_container: $(\"#glowscript\").removeAttr(\"id\")}"
      ],
      "text/plain": [
       "<IPython.core.display.Javascript object>"
      ]
     },
     "metadata": {},
     "output_type": "display_data"
    },
    {
     "name": "stdout",
     "output_type": "stream",
     "text": [
      "The net electric field =  <2.72848e-12, -7106.75, 0> N/C\n"
     ]
    }
   ],
   "source": [
    "scene=canvas(title=\"Electric field at (0,0.01,0) due to uniformly charged ring\")\n",
    "scene.background=color.white\n",
    "\n",
    "myring=ring(pos=vector(0,0,0), radius=R, axis=vector(0,0,1), color=color.blue, thickness=0.02*R)\n",
    "zaxis=cylinder(pos=-2*R*myring.axis, radius=0.015*R, axis=4*R*myring.axis, color=color.black)\n",
    "point3 = sphere(pos=vector(0,0.01,0),color=color.red, radius=5*zaxis.radius)\n",
    "\n",
    "rpoint3 = point3.pos\n",
    "\n",
    "Enet3=vector(0,0,0)\n",
    "theta=dtheta/2 \n",
    "\n",
    "while theta<2*pi:\n",
    "    rpiece=R*vector(cos(theta),sin(theta),0) \n",
    "    r3=rpoint3-rpiece \n",
    "    rmag3=mag(r3) \n",
    "    rhat3=norm(r3)\n",
    "    dE3=oofpez*dq/rmag3/rmag3*rhat3 \n",
    "    Enet3=Enet3+dE3 \n",
    "    particle=sphere(pos=rpiece, radius=point.radius, color=color.yellow) \n",
    "    dEvector=arrow(pos=rpoint3, axis=scale*dE3, color=color.magenta, shaftwidth=point.radius/2)\n",
    "    theta=theta+dtheta\n",
    "\n",
    "print(\"The net electric field = \",Enet3, \"N/C\")\n",
    "Evector=arrow(pos=rpoint3, axis=scale*Enet3, color=color.orange, shaftwidth=point.radius/2)"
   ]
  },
  {
   "cell_type": "code",
   "execution_count": 6,
   "metadata": {},
   "outputs": [
    {
     "data": {
      "text/html": [
       "<div id=\"glowscript\" class=\"glowscript\"></div>"
      ],
      "text/plain": [
       "<IPython.core.display.HTML object>"
      ]
     },
     "metadata": {},
     "output_type": "display_data"
    },
    {
     "data": {
      "application/javascript": [
       "window.__context = { glowscript_container: $(\"#glowscript\").removeAttr(\"id\")}"
      ],
      "text/plain": [
       "<IPython.core.display.Javascript object>"
      ]
     },
     "metadata": {},
     "output_type": "display_data"
    },
    {
     "name": "stdout",
     "output_type": "stream",
     "text": [
      "The net electric field =  <1.83036e-11, 3480.01, 0> N/C\n"
     ]
    }
   ],
   "source": [
    "scene=canvas(title=\"Electric field at (0,0.018,0 due to uniformly charged ring\")\n",
    "scene.background=color.white\n",
    "\n",
    "myring=ring(pos=vector(0,0,0), radius=R, axis=vector(0,0,1), color=color.blue, thickness=0.02*R)\n",
    "zaxis=cylinder(pos=-2*R*myring.axis, radius=0.015*R, axis=4*R*myring.axis, color=color.black)\n",
    "point3 = sphere(pos=vector(0,0.018,0),color=color.red, radius=5*zaxis.radius)\n",
    "\n",
    "rpoint3 = point3.pos\n",
    "\n",
    "Enet3=vector(0,0,0)\n",
    "theta=dtheta/2 \n",
    "\n",
    "while theta<2*pi:\n",
    "    rpiece=R*vector(cos(theta),sin(theta),0) \n",
    "    r3=rpoint3-rpiece \n",
    "    rmag3=mag(r3) \n",
    "    rhat3=norm(r3)\n",
    "    dE3=oofpez*dq/rmag3/rmag3*rhat3 \n",
    "    Enet3=Enet3+dE3 \n",
    "    particle=sphere(pos=rpiece, radius=point.radius, color=color.yellow) \n",
    "    dEvector=arrow(pos=rpoint3, axis=scale*dE3, color=color.magenta, shaftwidth=point.radius/2)\n",
    "    theta=theta+dtheta\n",
    "\n",
    "print(\"The net electric field = \",Enet3, \"N/C\")\n",
    "Evector=arrow(pos=rpoint3, axis=scale*Enet3, color=color.orange, shaftwidth=point.radius/2)"
   ]
  },
  {
   "cell_type": "code",
   "execution_count": 7,
   "metadata": {},
   "outputs": [
    {
     "data": {
      "text/html": [
       "<div id=\"glowscript\" class=\"glowscript\"></div>"
      ],
      "text/plain": [
       "<IPython.core.display.HTML object>"
      ]
     },
     "metadata": {},
     "output_type": "display_data"
    },
    {
     "data": {
      "application/javascript": [
       "window.__context = { glowscript_container: $(\"#glowscript\").removeAttr(\"id\")}"
      ],
      "text/plain": [
       "<IPython.core.display.Javascript object>"
      ]
     },
     "metadata": {},
     "output_type": "display_data"
    },
    {
     "name": "stdout",
     "output_type": "stream",
     "text": [
      "The net electric field =  <1.62572e-11, -7167.59, 0> N/C\n"
     ]
    }
   ],
   "source": [
    "scene=canvas(title=\"Electric field at (0,0.015,0 due to uniformly charged ring\")\n",
    "scene.background=color.white\n",
    "\n",
    "myring=ring(pos=vector(0,0,0), radius=R, axis=vector(0,0,1), color=color.blue, thickness=0.02*R)\n",
    "zaxis=cylinder(pos=-2*R*myring.axis, radius=0.015*R, axis=4*R*myring.axis, color=color.black)\n",
    "point3 = sphere(pos=vector(0,0.015,0),color=color.red, radius=5*zaxis.radius)\n",
    "\n",
    "rpoint3 = point3.pos\n",
    "\n",
    "Enet3=vector(0,0,0)\n",
    "theta=dtheta/2 \n",
    "\n",
    "while theta<2*pi:\n",
    "    rpiece=R*vector(cos(theta),sin(theta),0) \n",
    "    r3=rpoint3-rpiece \n",
    "    rmag3=mag(r3) \n",
    "    rhat3=norm(r3)\n",
    "    dE3=oofpez*dq/rmag3/rmag3*rhat3 \n",
    "    Enet3=Enet3+dE3 \n",
    "    particle=sphere(pos=rpiece, radius=point.radius, color=color.yellow) \n",
    "    dEvector=arrow(pos=rpoint3, axis=scale*dE3, color=color.magenta, shaftwidth=point.radius/2)\n",
    "    theta=theta+dtheta\n",
    "\n",
    "print(\"The net electric field = \",Enet3, \"N/C\")\n",
    "Evector=arrow(pos=rpoint3, axis=scale*Enet3, color=color.orange, shaftwidth=point.radius/2)"
   ]
  },
  {
   "cell_type": "code",
   "execution_count": 8,
   "metadata": {},
   "outputs": [
    {
     "data": {
      "text/html": [
       "<div id=\"glowscript\" class=\"glowscript\"></div>"
      ],
      "text/plain": [
       "<IPython.core.display.HTML object>"
      ]
     },
     "metadata": {},
     "output_type": "display_data"
    },
    {
     "data": {
      "application/javascript": [
       "window.__context = { glowscript_container: $(\"#glowscript\").removeAttr(\"id\")}"
      ],
      "text/plain": [
       "<IPython.core.display.Javascript object>"
      ]
     },
     "metadata": {},
     "output_type": "display_data"
    },
    {
     "name": "stdout",
     "output_type": "stream",
     "text": [
      "The net electric field =  <1.72804e-11, 1113.48, 0> N/C\n"
     ]
    }
   ],
   "source": [
    "scene=canvas(title=\"Electric field at (0,0.0175,0 due to uniformly charged ring\")\n",
    "scene.background=color.white\n",
    "\n",
    "myring=ring(pos=vector(0,0,0), radius=R, axis=vector(0,0,1), color=color.blue, thickness=0.02*R)\n",
    "zaxis=cylinder(pos=-2*R*myring.axis, radius=0.015*R, axis=4*R*myring.axis, color=color.black)\n",
    "point3 = sphere(pos=vector(0,0.0175,0),color=color.red, radius=5*zaxis.radius)\n",
    "\n",
    "rpoint3 = point3.pos\n",
    "\n",
    "Enet3=vector(0,0,0)\n",
    "theta=dtheta/2 \n",
    "\n",
    "while theta<2*pi:\n",
    "    rpiece=R*vector(cos(theta),sin(theta),0) \n",
    "    r3=rpoint3-rpiece \n",
    "    rmag3=mag(r3) \n",
    "    rhat3=norm(r3)\n",
    "    dE3=oofpez*dq/rmag3/rmag3*rhat3 \n",
    "    Enet3=Enet3+dE3 \n",
    "    particle=sphere(pos=rpiece, radius=point.radius, color=color.yellow) \n",
    "    dEvector=arrow(pos=rpoint3, axis=scale*dE3, color=color.magenta, shaftwidth=point.radius/2)\n",
    "    theta=theta+dtheta\n",
    "\n",
    "print(\"The net electric field = \",Enet3, \"N/C\")\n",
    "Evector=arrow(pos=rpoint3, axis=scale*Enet3, color=color.orange, shaftwidth=point.radius/2)"
   ]
  },
  {
   "cell_type": "code",
   "execution_count": 9,
   "metadata": {},
   "outputs": [
    {
     "data": {
      "text/html": [
       "<div id=\"glowscript\" class=\"glowscript\"></div>"
      ],
      "text/plain": [
       "<IPython.core.display.HTML object>"
      ]
     },
     "metadata": {},
     "output_type": "display_data"
    },
    {
     "data": {
      "application/javascript": [
       "window.__context = { glowscript_container: $(\"#glowscript\").removeAttr(\"id\")}"
      ],
      "text/plain": [
       "<IPython.core.display.Javascript object>"
      ]
     },
     "metadata": {},
     "output_type": "display_data"
    },
    {
     "name": "stdout",
     "output_type": "stream",
     "text": [
      "The net electric field =  <2.68869e-11, -43165.2, 0> N/C\n"
     ]
    }
   ],
   "source": [
    "scene=canvas(title=\"Electric field at (0,0.0175,0 due to uniformly charged ring\")\n",
    "scene.background=color.white\n",
    "\n",
    "\n",
    "N=32\n",
    "dq=Q/N\n",
    "dtheta=2*pi/N \n",
    "\n",
    "myring=ring(pos=vector(0,0,0), radius=R, axis=vector(0,0,1), color=color.blue, thickness=0.02*R)\n",
    "zaxis=cylinder(pos=-2*R*myring.axis, radius=0.015*R, axis=4*R*myring.axis, color=color.black)\n",
    "point3 = sphere(pos=vector(0,0.0175,0),color=color.red, radius=5*zaxis.radius)\n",
    "\n",
    "rpoint3 = point3.pos\n",
    "\n",
    "Enet3=vector(0,0,0)\n",
    "theta=dtheta/2 \n",
    "\n",
    "while theta<2*pi:\n",
    "    rpiece=R*vector(cos(theta),sin(theta),0) \n",
    "    r3=rpoint3-rpiece \n",
    "    rmag3=mag(r3) \n",
    "    rhat3=norm(r3)\n",
    "    dE3=oofpez*dq/rmag3/rmag3*rhat3 \n",
    "    Enet3=Enet3+dE3 \n",
    "    particle=sphere(pos=rpiece, radius=point.radius, color=color.yellow) \n",
    "    dEvector=arrow(pos=rpoint3, axis=scale*dE3, color=color.magenta, shaftwidth=point.radius/2)\n",
    "    theta=theta+dtheta\n",
    "\n",
    "print(\"The net electric field = \",Enet3, \"N/C\")\n",
    "Evector=arrow(pos=rpoint3, axis=scale*Enet3, color=color.orange, shaftwidth=point.radius/2)"
   ]
  },
  {
   "cell_type": "code",
   "execution_count": 10,
   "metadata": {
    "collapsed": true
   },
   "outputs": [],
   "source": [
    "#I noticed when I got far out with fewer charges, there was a point that E would flip over. I upped the number\n",
    "#to 32 for the sake of seeing if having the charge more evenly spread out around the radius would impact the E field \n",
    "#that the charge saw at the edge of the ring."
   ]
  },
  {
   "cell_type": "code",
   "execution_count": 11,
   "metadata": {},
   "outputs": [
    {
     "data": {
      "text/html": [
       "<div id=\"glowscript\" class=\"glowscript\"></div>"
      ],
      "text/plain": [
       "<IPython.core.display.HTML object>"
      ]
     },
     "metadata": {},
     "output_type": "display_data"
    },
    {
     "data": {
      "application/javascript": [
       "window.__context = { glowscript_container: $(\"#glowscript\").removeAttr(\"id\")}"
      ],
      "text/plain": [
       "<IPython.core.display.Javascript object>"
      ]
     },
     "metadata": {},
     "output_type": "display_data"
    },
    {
     "name": "stdout",
     "output_type": "stream",
     "text": [
      "The net electric field =  <-2.10321e-11, -5.91172e-12, 0> N/C\n"
     ]
    }
   ],
   "source": [
    "scene=canvas(title=\"Electric field at the origin due to uniformly charged ring\")\n",
    "scene.background=color.white\n",
    "\n",
    "\n",
    "N=32\n",
    "dq=Q/N\n",
    "dtheta=2*pi/N \n",
    "\n",
    "myring=ring(pos=vector(0,0,0), radius=R, axis=vector(0,0,1), color=color.blue, thickness=0.02*R)\n",
    "zaxis=cylinder(pos=-2*R*myring.axis, radius=0.015*R, axis=4*R*myring.axis, color=color.black)\n",
    "point3 = sphere(pos=vector(0,0.0,0),color=color.red, radius=5*zaxis.radius)\n",
    "\n",
    "rpoint3 = point3.pos\n",
    "\n",
    "Enet3=vector(0,0,0)\n",
    "theta=dtheta/2 \n",
    "\n",
    "while theta<2*pi:\n",
    "    rpiece=R*vector(cos(theta),sin(theta),0) \n",
    "    r3=rpoint3-rpiece \n",
    "    rmag3=mag(r3) \n",
    "    rhat3=norm(r3)\n",
    "    dE3=oofpez*dq/rmag3/rmag3*rhat3 \n",
    "    Enet3=Enet3+dE3 \n",
    "    particle=sphere(pos=rpiece, radius=point.radius, color=color.yellow) \n",
    "    dEvector=arrow(pos=rpoint3, axis=scale*dE3, color=color.magenta, shaftwidth=point.radius/2)\n",
    "    theta=theta+dtheta\n",
    "\n",
    "print(\"The net electric field = \",Enet3, \"N/C\")\n",
    "Evector=arrow(pos=rpoint3, axis=scale*Enet3, color=color.orange, shaftwidth=point.radius/2)"
   ]
  },
  {
   "cell_type": "code",
   "execution_count": 12,
   "metadata": {
    "collapsed": true
   },
   "outputs": [],
   "source": [
    "#From these tests, it appears that the E field is essentially zero at the center and gets larger as you move out toward the\n",
    "#edges. I only moved along one axis because of the symmetry of the situation. For a uniformly charged ring, it should not\n",
    "#matter where I am in the phi direction as long as I am at the same r. The effects would be seen at any that distance r out"
   ]
  },
  {
   "cell_type": "code",
   "execution_count": 16,
   "metadata": {},
   "outputs": [
    {
     "data": {
      "text/html": [
       "<div id=\"glowscript\" class=\"glowscript\"></div>"
      ],
      "text/plain": [
       "<IPython.core.display.HTML object>"
      ]
     },
     "metadata": {},
     "output_type": "display_data"
    },
    {
     "data": {
      "application/javascript": [
       "window.__context = { glowscript_container: $(\"#glowscript\").removeAttr(\"id\")}"
      ],
      "text/plain": [
       "<IPython.core.display.Javascript object>"
      ]
     },
     "metadata": {},
     "output_type": "display_data"
    },
    {
     "name": "stdout",
     "output_type": "stream",
     "text": [
      "The net electric field =  <-1.58593e-10, -2.27374e-11, -8.95284e-13> N/C\n"
     ]
    }
   ],
   "source": [
    "scene=canvas(title=\"Electric field at (0,0.0,0) due to uniformly charged ring\")\n",
    "scene.background=color.white\n",
    "\n",
    "\n",
    "N=32\n",
    "dq=Q/N\n",
    "dtheta=2*pi/N \n",
    "\n",
    "myring=ring(pos=vector(0,0,0), radius=R, axis=vector(0,0,1), color=color.blue, thickness=0.02*R)\n",
    "myring1=ring(pos=vector(0,0,0.02*R), radius=R, axis=vector(0,0,1), color=color.blue, thickness=0.02*R)\n",
    "myring2=ring(pos=vector(0,0,0.04*R), radius=R, axis=vector(0,0,1), color=color.blue, thickness=0.02*R)\n",
    "myring3=ring(pos=vector(0,0,0.06*R), radius=R, axis=vector(0,0,1), color=color.blue, thickness=0.02*R)\n",
    "myring4=ring(pos=vector(0,0,-0.02*R), radius=R, axis=vector(0,0,1), color=color.blue, thickness=0.02*R)\n",
    "myring5=ring(pos=vector(0,0,-0.04*R), radius=R, axis=vector(0,0,1), color=color.blue, thickness=0.02*R)\n",
    "myring6=ring(pos=vector(0,0,-0.06*R), radius=R, axis=vector(0,0,1), color=color.blue, thickness=0.02*R)\n",
    "\n",
    "zaxis=cylinder(pos=-2*R*myring.axis, radius=0.015*R, axis=4*R*myring.axis, color=color.black)\n",
    "point3 = sphere(pos=vector(0,0.0,0),color=color.red, radius=5*zaxis.radius)\n",
    "\n",
    "rpoint3 = point3.pos\n",
    "\n",
    "Enet3=vector(0,0,0)\n",
    "theta=dtheta/2 \n",
    "zpt=-0.06*R\n",
    "dzpt=0.02*R\n",
    "zptmax = 0.08*R\n",
    "\n",
    "while theta<2*pi:\n",
    "    while zpt<zptmax:\n",
    "        rpiece=vector(R*cos(theta),R*sin(theta),zpt) \n",
    "        r3=rpoint3-rpiece \n",
    "        rmag3=mag(r3) \n",
    "        rhat3=norm(r3)\n",
    "        dE3=oofpez*dq/rmag3/rmag3*rhat3 \n",
    "        Enet3=Enet3+dE3 \n",
    "        particle=sphere(pos=rpiece, radius=0.3*point.radius, color=color.yellow) \n",
    "        dEvector=arrow(pos=rpoint3, axis=scale*dE3, color=color.magenta, shaftwidth=point.radius/2)\n",
    "        zpt = zpt + dzpt\n",
    "        \n",
    "    theta=theta+dtheta\n",
    "    zpt = -0.06*R\n",
    "\n",
    "print(\"The net electric field = \",Enet3, \"N/C\")\n",
    "Evector=arrow(pos=rpoint3, axis=scale*Enet3, color=color.orange, shaftwidth=point.radius/2)"
   ]
  },
  {
   "cell_type": "code",
   "execution_count": 18,
   "metadata": {},
   "outputs": [
    {
     "data": {
      "text/html": [
       "<div id=\"glowscript\" class=\"glowscript\"></div>"
      ],
      "text/plain": [
       "<IPython.core.display.HTML object>"
      ]
     },
     "metadata": {},
     "output_type": "display_data"
    },
    {
     "data": {
      "application/javascript": [
       "window.__context = { glowscript_container: $(\"#glowscript\").removeAttr(\"id\")}"
      ],
      "text/plain": [
       "<IPython.core.display.Javascript object>"
      ]
     },
     "metadata": {},
     "output_type": "display_data"
    },
    {
     "name": "stdout",
     "output_type": "stream",
     "text": [
      "The net electric field =  <-1.4461e-10, -20995.9, -8.2423e-13> N/C\n"
     ]
    }
   ],
   "source": [
    "scene=canvas(title=\"Electric field at (0,0.005,0) due to uniformly charged ring\")\n",
    "scene.background=color.white\n",
    "\n",
    "\n",
    "N=32\n",
    "dq=Q/N\n",
    "dtheta=2*pi/N \n",
    "\n",
    "myring=ring(pos=vector(0,0,0), radius=R, axis=vector(0,0,1), color=color.blue, thickness=0.02*R)\n",
    "myring1=ring(pos=vector(0,0,0.02*R), radius=R, axis=vector(0,0,1), color=color.blue, thickness=0.02*R)\n",
    "myring2=ring(pos=vector(0,0,0.04*R), radius=R, axis=vector(0,0,1), color=color.blue, thickness=0.02*R)\n",
    "myring3=ring(pos=vector(0,0,0.06*R), radius=R, axis=vector(0,0,1), color=color.blue, thickness=0.02*R)\n",
    "myring4=ring(pos=vector(0,0,-0.02*R), radius=R, axis=vector(0,0,1), color=color.blue, thickness=0.02*R)\n",
    "myring5=ring(pos=vector(0,0,-0.04*R), radius=R, axis=vector(0,0,1), color=color.blue, thickness=0.02*R)\n",
    "myring6=ring(pos=vector(0,0,-0.06*R), radius=R, axis=vector(0,0,1), color=color.blue, thickness=0.02*R)\n",
    "\n",
    "zaxis=cylinder(pos=-2*R*myring.axis, radius=0.015*R, axis=4*R*myring.axis, color=color.black)\n",
    "point3 = sphere(pos=vector(0,0.005,0),color=color.red, radius=5*zaxis.radius)\n",
    "\n",
    "rpoint3 = point3.pos\n",
    "\n",
    "Enet3=vector(0,0,0)\n",
    "theta=dtheta/2 \n",
    "zpt=-0.06*R\n",
    "dzpt=0.02*R\n",
    "zptmax = 0.08*R\n",
    "\n",
    "while theta<2*pi:\n",
    "    while zpt<zptmax:\n",
    "        rpiece=vector(R*cos(theta),R*sin(theta),zpt) \n",
    "        r3=rpoint3-rpiece \n",
    "        rmag3=mag(r3) \n",
    "        rhat3=norm(r3)\n",
    "        dE3=oofpez*dq/rmag3/rmag3*rhat3 \n",
    "        Enet3=Enet3+dE3 \n",
    "        particle=sphere(pos=rpiece, radius=0.3*point.radius, color=color.yellow) \n",
    "        dEvector=arrow(pos=rpoint3, axis=scale*dE3, color=color.magenta, shaftwidth=point.radius/2)\n",
    "        zpt = zpt + dzpt\n",
    "        \n",
    "    theta=theta+dtheta\n",
    "    zpt = -0.06*R\n",
    "\n",
    "print(\"The net electric field = \",Enet3, \"N/C\")\n",
    "Evector=arrow(pos=rpoint3, axis=scale*Enet3, color=color.orange, shaftwidth=point.radius/2)"
   ]
  },
  {
   "cell_type": "code",
   "execution_count": 19,
   "metadata": {},
   "outputs": [
    {
     "data": {
      "text/html": [
       "<div id=\"glowscript\" class=\"glowscript\"></div>"
      ],
      "text/plain": [
       "<IPython.core.display.HTML object>"
      ]
     },
     "metadata": {},
     "output_type": "display_data"
    },
    {
     "data": {
      "application/javascript": [
       "window.__context = { glowscript_container: $(\"#glowscript\").removeAttr(\"id\")}"
      ],
      "text/plain": [
       "<IPython.core.display.Javascript object>"
      ]
     },
     "metadata": {},
     "output_type": "display_data"
    },
    {
     "name": "stdout",
     "output_type": "stream",
     "text": [
      "The net electric field =  <-1.32275e-10, -53633.8, -1.51701e-12> N/C\n"
     ]
    }
   ],
   "source": [
    "scene=canvas(title=\"Electric field at (0,0.01,0) due to uniformly charged ring\")\n",
    "scene.background=color.white\n",
    "\n",
    "\n",
    "N=32\n",
    "dq=Q/N\n",
    "dtheta=2*pi/N \n",
    "\n",
    "myring=ring(pos=vector(0,0,0), radius=R, axis=vector(0,0,1), color=color.blue, thickness=0.02*R)\n",
    "myring1=ring(pos=vector(0,0,0.02*R), radius=R, axis=vector(0,0,1), color=color.blue, thickness=0.02*R)\n",
    "myring2=ring(pos=vector(0,0,0.04*R), radius=R, axis=vector(0,0,1), color=color.blue, thickness=0.02*R)\n",
    "myring3=ring(pos=vector(0,0,0.06*R), radius=R, axis=vector(0,0,1), color=color.blue, thickness=0.02*R)\n",
    "myring4=ring(pos=vector(0,0,-0.02*R), radius=R, axis=vector(0,0,1), color=color.blue, thickness=0.02*R)\n",
    "myring5=ring(pos=vector(0,0,-0.04*R), radius=R, axis=vector(0,0,1), color=color.blue, thickness=0.02*R)\n",
    "myring6=ring(pos=vector(0,0,-0.06*R), radius=R, axis=vector(0,0,1), color=color.blue, thickness=0.02*R)\n",
    "\n",
    "zaxis=cylinder(pos=-2*R*myring.axis, radius=0.015*R, axis=4*R*myring.axis, color=color.black)\n",
    "point3 = sphere(pos=vector(0,0.01,0),color=color.red, radius=5*zaxis.radius)\n",
    "\n",
    "rpoint3 = point3.pos\n",
    "\n",
    "Enet3=vector(0,0,0)\n",
    "theta=dtheta/2 \n",
    "zpt=-0.06*R\n",
    "dzpt=0.02*R\n",
    "zptmax = 0.08*R\n",
    "\n",
    "while theta<2*pi:\n",
    "    while zpt<zptmax:\n",
    "        rpiece=vector(R*cos(theta),R*sin(theta),zpt) \n",
    "        r3=rpoint3-rpiece \n",
    "        rmag3=mag(r3) \n",
    "        rhat3=norm(r3)\n",
    "        dE3=oofpez*dq/rmag3/rmag3*rhat3 \n",
    "        Enet3=Enet3+dE3 \n",
    "        particle=sphere(pos=rpiece, radius=0.3*point.radius, color=color.yellow) \n",
    "        dEvector=arrow(pos=rpoint3, axis=scale*dE3, color=color.magenta, shaftwidth=point.radius/2)\n",
    "        zpt = zpt + dzpt\n",
    "        \n",
    "    theta=theta+dtheta\n",
    "    zpt = -0.06*R\n",
    "\n",
    "print(\"The net electric field = \",Enet3, \"N/C\")\n",
    "Evector=arrow(pos=rpoint3, axis=scale*Enet3, color=color.orange, shaftwidth=point.radius/2)"
   ]
  },
  {
   "cell_type": "code",
   "execution_count": 20,
   "metadata": {},
   "outputs": [
    {
     "data": {
      "text/html": [
       "<div id=\"glowscript\" class=\"glowscript\"></div>"
      ],
      "text/plain": [
       "<IPython.core.display.HTML object>"
      ]
     },
     "metadata": {},
     "output_type": "display_data"
    },
    {
     "data": {
      "application/javascript": [
       "window.__context = { glowscript_container: $(\"#glowscript\").removeAttr(\"id\")}"
      ],
      "text/plain": [
       "<IPython.core.display.Javascript object>"
      ]
     },
     "metadata": {},
     "output_type": "display_data"
    },
    {
     "name": "stdout",
     "output_type": "stream",
     "text": [
      "The net electric field =  <2.81915e-10, -301179, -9.03633e-12> N/C\n"
     ]
    }
   ],
   "source": [
    "scene=canvas(title=\"Electric field at (0,0.018,0) due to uniformly charged ring\")\n",
    "scene.background=color.white\n",
    "\n",
    "\n",
    "N=32\n",
    "dq=Q/N\n",
    "dtheta=2*pi/N \n",
    "\n",
    "myring=ring(pos=vector(0,0,0), radius=R, axis=vector(0,0,1), color=color.blue, thickness=0.02*R)\n",
    "myring1=ring(pos=vector(0,0,0.02*R), radius=R, axis=vector(0,0,1), color=color.blue, thickness=0.02*R)\n",
    "myring2=ring(pos=vector(0,0,0.04*R), radius=R, axis=vector(0,0,1), color=color.blue, thickness=0.02*R)\n",
    "myring3=ring(pos=vector(0,0,0.06*R), radius=R, axis=vector(0,0,1), color=color.blue, thickness=0.02*R)\n",
    "myring4=ring(pos=vector(0,0,-0.02*R), radius=R, axis=vector(0,0,1), color=color.blue, thickness=0.02*R)\n",
    "myring5=ring(pos=vector(0,0,-0.04*R), radius=R, axis=vector(0,0,1), color=color.blue, thickness=0.02*R)\n",
    "myring6=ring(pos=vector(0,0,-0.06*R), radius=R, axis=vector(0,0,1), color=color.blue, thickness=0.02*R)\n",
    "\n",
    "zaxis=cylinder(pos=-2*R*myring.axis, radius=0.015*R, axis=4*R*myring.axis, color=color.black)\n",
    "point3 = sphere(pos=vector(0,0.018,0),color=color.red, radius=5*zaxis.radius)\n",
    "\n",
    "rpoint3 = point3.pos\n",
    "\n",
    "Enet3=vector(0,0,0)\n",
    "theta=dtheta/2 \n",
    "zpt=-0.06*R\n",
    "dzpt=0.02*R\n",
    "zptmax = 0.08*R\n",
    "\n",
    "while theta<2*pi:\n",
    "    while zpt<zptmax:\n",
    "        rpiece=vector(R*cos(theta),R*sin(theta),zpt) \n",
    "        r3=rpoint3-rpiece \n",
    "        rmag3=mag(r3) \n",
    "        rhat3=norm(r3)\n",
    "        dE3=oofpez*dq/rmag3/rmag3*rhat3 \n",
    "        Enet3=Enet3+dE3 \n",
    "        particle=sphere(pos=rpiece, radius=0.3*point.radius, color=color.yellow) \n",
    "        dEvector=arrow(pos=rpoint3, axis=scale*dE3, color=color.magenta, shaftwidth=point.radius/2)\n",
    "        zpt = zpt + dzpt\n",
    "        \n",
    "    theta=theta+dtheta\n",
    "    zpt = -0.06*R\n",
    "\n",
    "print(\"The net electric field = \",Enet3, \"N/C\")\n",
    "Evector=arrow(pos=rpoint3, axis=scale*Enet3, color=color.orange, shaftwidth=point.radius/2)"
   ]
  },
  {
   "cell_type": "code",
   "execution_count": 21,
   "metadata": {
    "collapsed": true
   },
   "outputs": [],
   "source": [
    "#It seems like there is still some symmertry when in the x-y plane that keeps the vector point only toward the center. This \n",
    "#Can be seen from the dEs that fan out but still cancel."
   ]
  },
  {
   "cell_type": "code",
   "execution_count": 23,
   "metadata": {},
   "outputs": [
    {
     "data": {
      "text/html": [
       "<div id=\"glowscript\" class=\"glowscript\"></div>"
      ],
      "text/plain": [
       "<IPython.core.display.HTML object>"
      ]
     },
     "metadata": {},
     "output_type": "display_data"
    },
    {
     "data": {
      "application/javascript": [
       "window.__context = { glowscript_container: $(\"#glowscript\").removeAttr(\"id\")}"
      ],
      "text/plain": [
       "<IPython.core.display.Javascript object>"
      ]
     },
     "metadata": {},
     "output_type": "display_data"
    },
    {
     "name": "stdout",
     "output_type": "stream",
     "text": [
      "The net electric field =  <-1.34207e-10, -52974.9, 11620.4> N/C\n"
     ]
    }
   ],
   "source": [
    "scene=canvas(title=\"Electric field at (0,0.01,0.04*R) due to uniformly charged ring\")\n",
    "scene.background=color.white\n",
    "\n",
    "\n",
    "N=32\n",
    "dq=Q/N\n",
    "dtheta=2*pi/N \n",
    "\n",
    "myring=ring(pos=vector(0,0,0), radius=R, axis=vector(0,0,1), color=color.blue, thickness=0.02*R)\n",
    "myring1=ring(pos=vector(0,0,0.02*R), radius=R, axis=vector(0,0,1), color=color.blue, thickness=0.02*R)\n",
    "myring2=ring(pos=vector(0,0,0.04*R), radius=R, axis=vector(0,0,1), color=color.blue, thickness=0.02*R)\n",
    "myring3=ring(pos=vector(0,0,0.06*R), radius=R, axis=vector(0,0,1), color=color.blue, thickness=0.02*R)\n",
    "myring4=ring(pos=vector(0,0,-0.02*R), radius=R, axis=vector(0,0,1), color=color.blue, thickness=0.02*R)\n",
    "myring5=ring(pos=vector(0,0,-0.04*R), radius=R, axis=vector(0,0,1), color=color.blue, thickness=0.02*R)\n",
    "myring6=ring(pos=vector(0,0,-0.06*R), radius=R, axis=vector(0,0,1), color=color.blue, thickness=0.02*R)\n",
    "\n",
    "zaxis=cylinder(pos=-2*R*myring.axis, radius=0.015*R, axis=4*R*myring.axis, color=color.black)\n",
    "point3 = sphere(pos=vector(0,0.01,0.04*R),color=color.red, radius=5*zaxis.radius)\n",
    "\n",
    "rpoint3 = point3.pos\n",
    "\n",
    "Enet3=vector(0,0,0)\n",
    "theta=dtheta/2 \n",
    "zpt=-0.06*R\n",
    "dzpt=0.02*R\n",
    "zptmax = 0.08*R\n",
    "\n",
    "while theta<2*pi:\n",
    "    while zpt<zptmax:\n",
    "        rpiece=vector(R*cos(theta),R*sin(theta),zpt) \n",
    "        r3=rpoint3-rpiece \n",
    "        rmag3=mag(r3) \n",
    "        rhat3=norm(r3)\n",
    "        dE3=oofpez*dq/rmag3/rmag3*rhat3 \n",
    "        Enet3=Enet3+dE3 \n",
    "        particle=sphere(pos=rpiece, radius=0.3*point.radius, color=color.yellow) \n",
    "        dEvector=arrow(pos=rpoint3, axis=scale*dE3, color=color.magenta, shaftwidth=point.radius/2)\n",
    "        zpt = zpt + dzpt\n",
    "        \n",
    "    theta=theta+dtheta\n",
    "    zpt = -0.06*R\n",
    "\n",
    "print(\"The net electric field = \",Enet3, \"N/C\")\n",
    "Evector=arrow(pos=rpoint3, axis=scale*Enet3, color=color.orange, shaftwidth=point.radius/2)"
   ]
  },
  {
   "cell_type": "code",
   "execution_count": null,
   "metadata": {
    "collapsed": true
   },
   "outputs": [],
   "source": [
    "#Moving out of xy leads to a vector that not only points back to the middle, but also out of the ring. The particle is\n",
    "#still within the tube, even though it moved in z."
   ]
  }
 ],
 "metadata": {
  "kernelspec": {
   "display_name": "Python 2",
   "language": "python",
   "name": "python2"
  },
  "language_info": {
   "codemirror_mode": {
    "name": "ipython",
    "version": 2
   },
   "file_extension": ".py",
   "mimetype": "text/x-python",
   "name": "python",
   "nbconvert_exporter": "python",
   "pygments_lexer": "ipython2",
   "version": "2.7.14"
  }
 },
 "nbformat": 4,
 "nbformat_minor": 1
}
